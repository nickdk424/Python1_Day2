{
 "cells": [
  {
   "cell_type": "markdown",
   "metadata": {},
   "source": [
    "Exercise 1. Print out if 25 multiplied by 54 is bigger than 33 multipled by 33"
   ]
  },
  {
   "cell_type": "code",
   "execution_count": 1,
   "metadata": {},
   "outputs": [
    {
     "name": "stdout",
     "output_type": "stream",
     "text": [
      "True\n"
     ]
    }
   ],
   "source": [
    "print(25*54 > 33*33)"
   ]
  },
  {
   "cell_type": "markdown",
   "metadata": {},
   "source": [
    "Exercise 2. Write a function called favorite_book() that accepts one parameter, title. The function should print a message, such as 'One of my favorite books is Alice in Wonderland.' Call the function, making sure to include a book title as an argument in the function call."
   ]
  },
  {
   "cell_type": "code",
   "execution_count": 2,
   "metadata": {},
   "outputs": [
    {
     "name": "stdout",
     "output_type": "stream",
     "text": [
      "What is your favorite book? The Name of the Wind\n",
      "One of my favorite books is: The Name of the Wind\n"
     ]
    }
   ],
   "source": [
    "def favorite_book(title):\n",
    "    print(f\"One of my favorite books is: {title}\")\n",
    "\n",
    "title = input(\"What is your favorite book? \")\n",
    "favorite_book(title)"
   ]
  },
  {
   "cell_type": "markdown",
   "metadata": {},
   "source": [
    "Exercise 3. Write a function called multiply_two() that accepts two parameters. The function should print a meesage like '15 + 2 = 17'.  Randomly generate two numbers between 1 and 100, then call the function with the two random numbers."
   ]
  },
  {
   "cell_type": "code",
   "execution_count": 3,
   "metadata": {},
   "outputs": [
    {
     "name": "stdout",
     "output_type": "stream",
     "text": [
      "Num 1 is: 52\n",
      "Num 2 is: 80\n",
      "52 x 80 = 4160\n"
     ]
    }
   ],
   "source": [
    "import random as rand\n",
    "\n",
    "def multiply_two(num1, num2):\n",
    "    print(f\"{num1} x {num2} = {num1*num2}\")\n",
    "    \n",
    "num1 = rand.randint(1,100)\n",
    "print(f\"Num 1 is: {num1}\")\n",
    "num2 = rand.randint(1,100)\n",
    "print(f\"Num 2 is: {num2}\")\n",
    "    \n",
    "multiply_two(num1, num2)"
   ]
  },
  {
   "cell_type": "markdown",
   "metadata": {},
   "source": [
    "Exercise 4: Write a function called make_shirt() that accepts a size and the text of a message. The function should print a sentence summarizing the size of the shirt and the message printed on it. The default shirt size is large and default message is 'I love Python!' Make a large shirt and a medium shirt with the default message, and a shirt of any size with a different message."
   ]
  },
  {
   "cell_type": "code",
   "execution_count": 4,
   "metadata": {},
   "outputs": [
    {
     "name": "stdout",
     "output_type": "stream",
     "text": [
      "The size of the shirt is: Large\n",
      "The message is: \n",
      "\"I Love Python\"\n",
      "The size of the shirt is: Medium\n",
      "The message is: \n",
      "\"I Love Python\"\n",
      "The size of the shirt is: Small\n",
      "The message is: \n",
      "\"I'm with stupid\n",
      "-------------->\"\n"
     ]
    }
   ],
   "source": [
    "def make_shirt(size, text):\n",
    "    print(f\"The size of the shirt is: {size}\\nThe message is: \\n\\\"{text}\\\"\")\n",
    "    \n",
    "size = \"Large\"\n",
    "text = \"I Love Python\"\n",
    "\n",
    "make_shirt(size, text)\n",
    "make_shirt(\"Medium\", text)\n",
    "\n",
    "make_shirt(\"Small\", \"I'm with stupid\\n-------------->\" )"
   ]
  },
  {
   "cell_type": "markdown",
   "metadata": {},
   "source": [
    "Exercise 5. Ask for a color and store that answer. \n",
    "If the answer is grey then print out you found Victor's favorite color.\n",
    "Otherwise print out the color is not Victor's favorite color."
   ]
  },
  {
   "cell_type": "code",
   "execution_count": 5,
   "metadata": {},
   "outputs": [
    {
     "name": "stdout",
     "output_type": "stream",
     "text": [
      "Type a color Grey\n",
      "Grey is Victor's favorite color!\n"
     ]
    }
   ],
   "source": [
    "color = input(\"Type a color \")\n",
    "\n",
    "if color == \"Grey\":\n",
    "    print(f\"{color} is Victor's favorite color!\")\n",
    "else:\n",
    "    print(f\"{color} is not Victor's favorite color.\")\n",
    "    \n"
   ]
  },
  {
   "cell_type": "markdown",
   "metadata": {},
   "source": [
    "Exercise 6. Modify code from exercise #2 and add in more conditions for other colors such as red, green, blue and write statements for them. "
   ]
  },
  {
   "cell_type": "code",
   "execution_count": 6,
   "metadata": {},
   "outputs": [
    {
     "name": "stdout",
     "output_type": "stream",
     "text": [
      "Type a color Red\n",
      "Red is Nick's favorite color!\n"
     ]
    }
   ],
   "source": [
    "color = input(\"Type a color \")\n",
    "\n",
    "if color == \"Grey\":\n",
    "    print(f\"{color} is Victor's favorite color!\")\n",
    "elif color == \"Red\":\n",
    "    print(f\"{color} is Nick's favorite color!\")\n",
    "elif color == \"Green\":\n",
    "    print(f\"{color} is John's favorite color!\")\n",
    "else:\n",
    "    print(f\"Nobody likes {color}\")"
   ]
  },
  {
   "cell_type": "markdown",
   "metadata": {},
   "source": [
    "Exercise 7. Ask for an exam score and store that number. If the number is greater than 100, then print out 'You cannot have an exam score higher than 100'. If the number doesn't exceeed 100 but is greater than or equal to 75, then print out 'You did great on your exam!'. Otherwise if they scored lower than 75, then print out 'You need to study harder'."
   ]
  },
  {
   "cell_type": "code",
   "execution_count": 7,
   "metadata": {},
   "outputs": [
    {
     "name": "stdout",
     "output_type": "stream",
     "text": [
      "What is your grade? 100\n",
      "You did great on your exam!\n"
     ]
    }
   ],
   "source": [
    "def grade(score):\n",
    "    if score > 100:\n",
    "        print(f\"You can't have a score that is higher than 100, please try again\")\n",
    "        score = int(input(\"What is your grade? \"))\n",
    "        grade(score)\n",
    "    elif score < 0:\n",
    "        print(f\"You can't have a score that is higher than 100, please try again\")\n",
    "        score = int(input(\"What is your grade? \"))\n",
    "        grade(score)\n",
    "    elif score in range(75, 101):\n",
    "        print(f\"You did great on your exam!\")\n",
    "    else:\n",
    "        print(\"You need to study harder\")\n",
    "        \n",
    "score = int(input(\"What is your grade? \"))\n",
    "grade(score)"
   ]
  },
  {
   "cell_type": "markdown",
   "metadata": {},
   "source": [
    "# Exercise 8. \n",
    "Define two functions: \n",
    "    - a function that takes 3 arguements and returns the sum of three arguements\n",
    "    - a function that takes 2 arguements and returns the result of 1st arguement multiplied by 2nd arguement\n",
    "\n",
    "Then tell the user to choose option 1 to add three numbers or option 2 to multiply two numbers.\n",
    "If the user choose option 1 then call the addition function, otherwise if they choose option 2 then call the mulitplication function.  If the user choose anything other than option 1 or 2, then generate a friendly error messsage"
   ]
  },
  {
   "cell_type": "code",
   "execution_count": 8,
   "metadata": {},
   "outputs": [
    {
     "name": "stdout",
     "output_type": "stream",
     "text": [
      "Type \"1\" to Add 3 numbers. Type \"2\" to Multiply 2 numbers. Or type \"3\" to quit1\n",
      "Choose a number: 2\n",
      "Choose a number: 3\n",
      "Choose a number: 4\n",
      "9\n",
      "Type \"1\" to Add 3 numbers. Type \"2\" to Multiply 2 numbers. Or type \"3\" to quit2\n",
      "Choose a number: 5\n",
      "Choose a number: 6\n",
      "30\n",
      "Type \"1\" to Add 3 numbers. Type \"2\" to Multiply 2 numbers. Or type \"3\" to quit3\n",
      "********************\n",
      "Quit\n"
     ]
    }
   ],
   "source": [
    "def add_three(sum1, sum2, sum3):\n",
    "    return sum1 + sum2 + sum3\n",
    "\n",
    "def multiply_two(mult1, mult2):\n",
    "    return mult1 * mult2\n",
    "\n",
    "choose = 0\n",
    "while choose != 3:\n",
    "    choose = int(input(\"Type \\\"1\\\" to Add 3 numbers. Type \\\"2\\\" to Multiply 2 numbers. Or type \\\"3\\\" to quit\"))\n",
    "    if choose == 1:\n",
    "        sum1 = int(input(\"Choose a number: \"))\n",
    "        sum2 = int(input(\"Choose a number: \"))\n",
    "        sum3 = int(input(\"Choose a number: \"))\n",
    "        print(add_three(sum1, sum2, sum3))\n",
    "    elif choose == 2:\n",
    "        mult1 = int(input(\"Choose a number: \"))\n",
    "        mult2 = int(input(\"Choose a number: \"))\n",
    "        print(multiply_two(mult1, mult2))\n",
    "\n",
    "print(\"*\"*20)\n",
    "print(\"Quit\")\n"
   ]
  },
  {
   "cell_type": "markdown",
   "metadata": {},
   "source": [
    "Exercise 9. \n",
    "Write a function to convert a test score to a grade where  \n",
    " - 90 - 100: A\n",
    " - 80 - 89:  B\n",
    " - 70 - 79:  C\n",
    " - 60 - 69:  D\n",
    " - < 60   :  F\n",
    " \n",
    "If a score is not between 0 and 100 then print out an error message. In the program, ask the user for a score and then call your function. "
   ]
  },
  {
   "cell_type": "code",
   "execution_count": 17,
   "metadata": {},
   "outputs": [
    {
     "name": "stdout",
     "output_type": "stream",
     "text": [
      "Please enter numerical grade to recieve letter grade101\n",
      "<<<ERROR>>> Number not in range\n"
     ]
    }
   ],
   "source": [
    "def letter(grade):\n",
    "    if grade in range(90,101):\n",
    "        print(\"Your grade is: A\")\n",
    "    elif grade in range(80,90):\n",
    "        print(\"Your grade is: B\")\n",
    "    elif grade in range(70,80):\n",
    "        print(\"Your grade is: C\")\n",
    "    elif grade in range(60,70):\n",
    "        print(\"Your grade is D\")\n",
    "    else:\n",
    "        print(\"Your grade is F. See me after class\")\n",
    "\n",
    "score = int(input(\"Please enter numerical grade to recieve letter grade\" ))\n",
    "if score in range(1,101):\n",
    "    letter(score)\n",
    "else:\n",
    "    print(\"<<<ERROR>>> Number not in range\")"
   ]
  },
  {
   "cell_type": "markdown",
   "metadata": {},
   "source": [
    "Exercise 10. Write a program to compute discounts for customers.  \n",
    "- For retail customers, \n",
    "    - if invoice total is greater than \\$100 then discount rate is 10\\%, otherwise no discount \n",
    "\n",
    "- For wholesale customers,\n",
    "    - if invoice total is greater than \\$500 then discount rate is 30\\%, otherwise discount rate is 20\\%\n",
    "    \n",
    "Get the type of customer and the invoice total from the user."
   ]
  },
  {
   "cell_type": "code",
   "execution_count": null,
   "metadata": {},
   "outputs": [],
   "source": [
    "def retail(invoice):\n",
    "    if invoice > 100:\n",
    "        print(\"-\"*30)\n",
    "        print(\"You save 10% today!\")\n",
    "        print(f\"Total is: ${invoice:,.2f}\")\n",
    "        save = invoice*.1\n",
    "        print(f\"Your savings is: ${save:,.2f}\")\n",
    "        total = invoice - save\n",
    "        print(f\"Your new total is: ${total:.2f}\")\n",
    "    else:\n",
    "        print(\"-\"*30)\n",
    "        print(\"Im sorry, no discount today\")\n",
    "        print(f\"Your total is: ${invoice:,.2f}\")\n",
    "                 \n",
    "def whole(invoice):\n",
    "    if invoice > 500:\n",
    "        print(\"-\"*30)\n",
    "        print(\"You save 30% today!\")\n",
    "        print(f\"Total is: ${invoice:,.2f}\")\n",
    "        save = invoice * .3\n",
    "        print(f\"Your savings is: ${save:,.2f}\")\n",
    "        total = invoice - save\n",
    "        print(f\"You're new total is: ${total:,.2f}\")\n",
    "    else:\n",
    "        print(\"-\"*30)\n",
    "        print(\"You save 20% today!\")\n",
    "        print(f\"Total is: ${invoice:,.2f}\")\n",
    "        save = invoice * .2\n",
    "        print(f\"Your savings is: ${save:,.2f}\")\n",
    "        total = invoice - save\n",
    "        print(f\"Your new total is: ${total:,.2f}\")\n",
    "\n",
    "print(\"What type of customer are you?\")\n",
    "print(\"=\"*30)\n",
    "\n",
    "customer = 0\n",
    "\n",
    "while customer != 3: \n",
    "    customer = float(input(f\"Please type \\\"1\\\" for Wholesale or \\\"2\\\" for retail or enter \\\"3\\\" to exit. \"))\n",
    "    if customer == 1:\n",
    "        invoice = float(input(\"Please enter total: \"))  \n",
    "        whole(invoice)\n",
    "    elif customer == 2:\n",
    "        invoice = float(input(\"Please enter total: \"))  \n",
    "        retail(invoice)\n",
    "    elif customer != 3:\n",
    "        print(\"\\nPlease choose from the options\")\n",
    "\n",
    "print(\"Quit\")\n",
    "\n",
    "        "
   ]
  },
  {
   "cell_type": "code",
   "execution_count": null,
   "metadata": {},
   "outputs": [],
   "source": []
  },
  {
   "cell_type": "code",
   "execution_count": null,
   "metadata": {},
   "outputs": [],
   "source": []
  }
 ],
 "metadata": {
  "kernelspec": {
   "display_name": "Python 3",
   "language": "python",
   "name": "python3"
  },
  "language_info": {
   "codemirror_mode": {
    "name": "ipython",
    "version": 3
   },
   "file_extension": ".py",
   "mimetype": "text/x-python",
   "name": "python",
   "nbconvert_exporter": "python",
   "pygments_lexer": "ipython3",
   "version": "3.8.3"
  }
 },
 "nbformat": 4,
 "nbformat_minor": 4
}
